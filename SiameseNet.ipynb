{
 "cells": [
  {
   "cell_type": "code",
   "execution_count": 6,
   "metadata": {
    "collapsed": false
   },
   "outputs": [],
   "source": []
  },
  {
   "cell_type": "code",
   "execution_count": 2,
   "metadata": {
    "collapsed": false
   },
   "outputs": [
    {
     "name": "stdout",
     "output_type": "stream",
     "text": [
      "(659, 20, 105, 105)\n",
      "[[ 0.498815]]\n",
      "?\n"
     ]
    }
   ],
   "source": [
    "with open( \"/home/soren/Documents/oneshot/train.pickle\",\"r\") as f:\n",
    "    (X,y,categories) = pickle.load(f)\n",
    "\n",
    "with open( \"/home/soren/Documents/oneshot/val.pickle\",\"r\") as f:\n",
    "    (Xval,yval,categoriesv) = pickle.load(f)\n",
    "print(Xval.shape)\n",
    "a=siamese_net.predict([X[1,1,:,:].reshape(1,105,105,1),X[7,1,:,:].reshape(1,105,105,1) ])\n",
    "print(a)\n",
    "print(\"?\")"
   ]
  },
  {
   "cell_type": "code",
   "execution_count": 3,
   "metadata": {
    "collapsed": false,
    "scrolled": true
   },
   "outputs": [
    {
     "ename": "NameError",
     "evalue": "name 'pick' is not defined",
     "output_type": "error",
     "traceback": [
      "\u001b[0;31m-----------------------\u001b[0m",
      "\u001b[0;31mNameError\u001b[0mTraceback (most recent call last)",
      "\u001b[0;32m<ipython-input-3-c035f269a7ac>\u001b[0m in \u001b[0;36m<module>\u001b[0;34m()\u001b[0m\n\u001b[1;32m     43\u001b[0m \u001b[0;34m\u001b[0m\u001b[0m\n\u001b[1;32m     44\u001b[0m \u001b[0mt\u001b[0m\u001b[0;34m=\u001b[0m\u001b[0mtime\u001b[0m\u001b[0;34m(\u001b[0m\u001b[0;34m)\u001b[0m\u001b[0;34m\u001b[0m\u001b[0m\n\u001b[0;32m---> 45\u001b[0;31m \u001b[0mpairs\u001b[0m \u001b[0;34m=\u001b[0m \u001b[0mpick\u001b[0m\u001b[0;34m(\u001b[0m\u001b[0mX\u001b[0m\u001b[0;34m,\u001b[0m\u001b[0;36m64\u001b[0m\u001b[0;34m,\u001b[0m\u001b[0msame\u001b[0m\u001b[0;34m=\u001b[0m\u001b[0mTrue\u001b[0m\u001b[0;34m)\u001b[0m\u001b[0;34m\u001b[0m\u001b[0m\n\u001b[0m\u001b[1;32m     46\u001b[0m \u001b[0;31m#v=X[0:128,1,:,:]\u001b[0m\u001b[0;34m\u001b[0m\u001b[0;34m\u001b[0m\u001b[0m\n\u001b[1;32m     47\u001b[0m \u001b[0mdt\u001b[0m \u001b[0;34m=\u001b[0m \u001b[0mtime\u001b[0m\u001b[0;34m(\u001b[0m\u001b[0;34m)\u001b[0m\u001b[0;34m-\u001b[0m\u001b[0mt\u001b[0m\u001b[0;34m\u001b[0m\u001b[0m\n",
      "\u001b[0;31mNameError\u001b[0m: name 'pick' is not defined"
     ]
    }
   ],
   "source": [
    "from time import time\n",
    "\n",
    "\n",
    "\n",
    "class Siamese_Loader:\n",
    "    def __init__(self,Xval,Xtrain):\n",
    "        self.Xval = Xval\n",
    "        self.Xtrain = Xtrain\n",
    "        self.n_classes,self.n_examples,self.w,self.h = Xtrain.shape\n",
    "    \n",
    "    def get_batch(self,X,n,same=False):\n",
    "        \"\"\"sample n pairs of training images with the same class if same\"\"\"\n",
    "        categories = rng.choice(self.n_classes,size=(n,),replace=False)\n",
    "        pairs=[np.zeros((n, self.h, self.w)),np.zeros((n, self.h, self.w))]\n",
    "        for i in range(n):\n",
    "            category = categories[i]\n",
    "            idx_1 = rng.randint(0,self.n_examples)\n",
    "            pairs[0][i] = X[category,idx_1,:,:]\n",
    "            if same == True:\n",
    "                idx_2 = rng.randint(0,n_examples)\n",
    "                category_2 = category\n",
    "            else:\n",
    "                idx_2 = rng.randint(0,n_examples)\n",
    "                category_2 = rng.choice(range(0,category)+range(category+1,n_classes))\n",
    "            pairs[1][i] = X[category_2,idx_2,:,:]\n",
    "        return pairs\n",
    "\n",
    "    def make_oneshot_task(X,n):\n",
    "        \"\"\"returns 2  n x h x w tensors to input\"\"\"\n",
    "        categories = rng.choice(self.n_classes,size=(n,),replace=False)\n",
    "        true_category = categories[0]\n",
    "        pairs=[np.zeros((n, self.h, self.w)),np.zeros((n, self.h, self.w))]\n",
    "        ex1, ex2 = rng.choice(n_examples,replace=False,size=(2,))\n",
    "        test_image = X[true_category,ex1,:,:]\n",
    "        for i in range(1,n):\n",
    "            rand_idx = rng.randint(0,n_examples)\n",
    "            pairs[0][i] = test_image\n",
    "            pairs[1][i] = X[other_category,rand_idx,:,:]\n",
    "        pairs[0][n] = test_image\n",
    "        pairs[0][1] = X[true_category,ex2]\n",
    "        targets = np.zeros((n,))\n",
    "        targets[0] = 1\n",
    "\n",
    "t=time()\n",
    "pairs = pick(X,64,same=True)\n",
    "#v=X[0:128,1,:,:]\n",
    "dt = time()-t\n",
    "print(\"took {} seconds to get batch\".format(dt))\n",
    "plt.matshow(pairs[0][3])\n",
    "plt.matshow(pairs[1][3])\n",
    "\n",
    "\n",
    "plt.show()\n"
   ]
  },
  {
   "cell_type": "code",
   "execution_count": null,
   "metadata": {
    "collapsed": false
   },
   "outputs": [],
   "source": [
    "\n",
    "n=64\n",
    "t = time()\n",
    "(a,targets)=get_batch(X,y,n)\n",
    "dt = time() - t\n",
    "print(\"getting a batch of size {} took {}\".format(n,dt))\n",
    "\n",
    "for i in range(20000):\n",
    "    (inputs,targets)=get_batch(X,y,64)\n",
    "    loss=siamese_net.train_on_batch(inputs,targets)\n",
    "    if i % 170 == 0:\n",
    "        val_input,val_target=get_batch(Xval,yval,32)\n",
    "        val_loss=siamese_net.evaluate(val_input,val_target)\n",
    "        print(\"iteration: {}, training loss: {}, val loss: {}\".format(i,loss, val_loss))\n",
    "    \n",
    "\n",
    "(inputs,targets)=get_batch(Xval,yval,64)\n",
    "\n",
    "\n",
    "\n",
    "plt.matshow(np.hstack([siamese_net.predict(inputs), targets.reshape(64,1)])[16:48],cmap='gray')\n",
    "plt.show()\n",
    "targets-siamese_net.predict(inputs)"
   ]
  },
  {
   "cell_type": "code",
   "execution_count": null,
   "metadata": {
    "collapsed": false,
    "scrolled": true
   },
   "outputs": [],
   "source": [
    "preds=siamese_net.predict(inputs)\n",
    "#print(np.where(preds==preds.max()))\n",
    "#print(inputs[0][58].shape)\n",
    "for idx in range(3):\n",
    "    print(\"probability not same:{}\".format(preds[idx]))\n",
    "    plt.matshow(inputs[0][idx].reshape(105,105),cmap='gray')\n",
    "    plt.matshow(inputs[1][idx].reshape(105,105),cmap='gray')\n",
    "\n",
    "    plt.show()\n",
    "#plt.matshow(inputs[1][58])\n"
   ]
  },
  {
   "cell_type": "code",
   "execution_count": null,
   "metadata": {
    "collapsed": false
   },
   "outputs": [],
   "source": [
    "\n",
    "        "
   ]
  },
  {
   "cell_type": "code",
   "execution_count": null,
   "metadata": {
    "collapsed": true
   },
   "outputs": [],
   "source": []
  }
 ],
 "metadata": {
  "celltoolbar": "Raw Cell Format",
  "kernelspec": {
   "display_name": "Python 2",
   "language": "python",
   "name": "python2"
  },
  "language_info": {
   "codemirror_mode": {
    "name": "ipython",
    "version": 2
   },
   "file_extension": ".py",
   "mimetype": "text/x-python",
   "name": "python",
   "nbconvert_exporter": "python",
   "pygments_lexer": "ipython2",
   "version": "2.7.12"
  }
 },
 "nbformat": 4,
 "nbformat_minor": 1
}

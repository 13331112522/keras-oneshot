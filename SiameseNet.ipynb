{
 "cells": [
  {
   "cell_type": "code",
   "execution_count": 2,
   "metadata": {
    "collapsed": false
   },
   "outputs": [
    {
     "name": "stderr",
     "output_type": "stream",
     "text": [
      "Using TensorFlow backend.\n"
     ]
    }
   ],
   "source": [
    "from keras.layers import Input, Convolution2D, Lambda, merge, Dense, Flatten,MaxPooling2D\n",
    "from keras.models import Model, Sequential\n",
    "from keras import backend as K\n",
    "from keras.optimizers import SGD\n",
    "import numpy.random as rng\n",
    "import numpy as np\n",
    "import dill as pickle\n",
    "import matplotlib.pyplot as plt\n",
    "\n",
    "\n",
    "\n",
    "def W_init(shape,name=None):\n",
    "    \"\"\"Initialize weights as in paper\"\"\"\n",
    "    values = rng.normal(loc=0,scale=1e-2,size=shape)\n",
    "    return K.variable(values,name=name)\n",
    "\n",
    "\n",
    "input_shape = (105, 105, 1)\n",
    "left_input = Input(input_shape)\n",
    "right_input = Input(input_shape)\n",
    "#build convolutional network to use in each siamese 'leg'\n",
    "convnet = Sequential()\n",
    "convnet.add(Convolution2D(64,10,10,activation='relu',input_shape=input_shape,init=W_init))\n",
    "convnet.add(MaxPooling2D())\n",
    "convnet.add(Convolution2D(128,7,7,activation='relu',init=W_init))\n",
    "convnet.add(MaxPooling2D())\n",
    "convnet.add(Convolution2D(128,4,4,activation='relu',init=W_init))\n",
    "convnet.add(MaxPooling2D())\n",
    "convnet.add(Convolution2D(256,4,4,activation='relu',init=W_init))\n",
    "convnet.add(Flatten())\n",
    "convnet.add(Dense(4096,activation=\"sigmoid\"))\n",
    "#encode each of the two inputs into a vector with the convnet\n",
    "encoded_l = convnet(left_input)\n",
    "encoded_r = convnet(right_input)\n",
    "#compute the l1 distance between the two encoded digits\n",
    "L1_distance = lambda x: K.abs(x[0]-x[1])\n",
    "both = merge([encoded_l,encoded_r], mode = L1_distance, output_shape=lambda x: x[0])\n",
    "prediction = Dense(1,activation='sigmoid')(both)\n",
    "siamese_net = Model(input=[left_input,right_input],output=prediction)\n",
    "optimizer = SGD(0.009,momentum=0.6,nesterov=True,decay=0.0003)\n",
    "siamese_net.compile(loss=\"binary_crossentropy\",optimizer=optimizer)"
   ]
  },
  {
   "cell_type": "code",
   "execution_count": 3,
   "metadata": {
    "collapsed": false
   },
   "outputs": [
    {
     "name": "stdout",
     "output_type": "stream",
     "text": [
      "(964, 20, 105, 105)\n"
     ]
    }
   ],
   "source": [
    "with open( \"/home/soren/keras-oneshot/train.pickle\",\"r\") as f:\n",
    "    (X,y,c) = pickle.load(f)\n",
    "\n",
    "with open( \"/home/soren/keras-oneshot/val.pickle\",\"r\") as f:\n",
    "    (Xval,yval,cval) = pickle.load(f)\n",
    "print(X.shape)\n",
    "a=siamese_net.predict([X[1,1,:,:].reshape(1,105,105,1),X[7,1,:,:].reshape(1,105,105,1) ])\n",
    "b=siamese_net.predict([X[7,1,:,:].reshape(1,105,105,1),X[1,1,:,:].reshape(1,105,105,1) ])\n",
    "\n"
   ]
  },
  {
   "cell_type": "code",
   "execution_count": 16,
   "metadata": {
    "collapsed": false,
    "scrolled": true
   },
   "outputs": [
    {
     "name": "stdout",
     "output_type": "stream",
     "text": [
      "Evaluating 5 way task 3 times...\n",
      "[[ 0.48157385]\n",
      " [ 0.50549209]\n",
      " [ 0.50719666]\n",
      " [ 0.4888424 ]\n",
      " [ 0.50703931]]\n",
      "2\n",
      "[[ 0.52736533]\n",
      " [ 0.52286547]\n",
      " [ 0.49043316]\n",
      " [ 0.51916617]\n",
      " [ 0.51127368]]\n",
      "0\n",
      "[[ 0.4806416 ]\n",
      " [ 0.49986258]\n",
      " [ 0.48568013]\n",
      " [ 0.48592973]\n",
      " [ 0.48212302]]\n",
      "1\n",
      "Got 33.3333333333% 5 way one-shot learning accuracy\n",
      "33.3333333333\n"
     ]
    }
   ],
   "source": [
    "class Siamese_Loader:\n",
    "    \"\"\"For loading batches and testing tasks to a siamese net\"\"\"\n",
    "    def __init__(self,Xtrain,Xval):\n",
    "        self.Xval = Xval\n",
    "        self.Xtrain = Xtrain\n",
    "        self.n_classes,self.n_examples,self.w,self.h = Xtrain.shape\n",
    "        self.n_val,self.n_ex_val,_,_ = Xval.shape\n",
    "\n",
    "    def get_batch(self,n):\n",
    "        \"\"\"Create batch of pairs, half same class, half different class\"\"\"\n",
    "        categories = rng.choice(self.n_classes,size=(n,),replace=False)\n",
    "        pairs=[np.zeros((n, self.h, self.w,1)),np.zeros((n, self.h, self.w,1))]\n",
    "        targets=np.zeros((n,))\n",
    "        targets[n//2:] = 1\n",
    "        for i in range(n):\n",
    "            category = categories[i]\n",
    "            idx_1 = rng.randint(0,self.n_examples)\n",
    "            pairs[0][i,:,:,:] = self.Xtrain[category,idx_1].reshape(self.w,self.h,1)\n",
    "            idx_2 = rng.randint(0,self.n_examples)\n",
    "            #pick images of same class for 1st half, different for 2nd\n",
    "            category_2 = category if i >= n//2 else (category + rng.randint(1,self.n_classes)) % self.n_classes\n",
    "            pairs[1][i,:,:,:] = self.Xtrain[category_2,idx_2].reshape(self.w,self.h,1)\n",
    "        return pairs, targets\n",
    "\n",
    "    def make_oneshot_task(self,N):\n",
    "        \"\"\"Create pairs of test image, support set for testing N way one-shot learning. \"\"\"\n",
    "        categories = rng.choice(self.n_val,size=(N,),replace=False)\n",
    "        indices = rng.randint(0,self.n_ex_val,size=(N,))\n",
    "        true_category = categories[0]\n",
    "        ex1, ex2 = rng.choice(self.n_examples,replace=False,size=(2,))\n",
    "        test_image = np.asarray([self.Xval[true_category,ex1,:,:]]*N).reshape(N,self.w,self.h,1)\n",
    "        support_set = self.Xval[categories,indices,:,:]\n",
    "        support_set[0,:,:] = self.Xval[true_category,ex2]\n",
    "        support_set = support_set.reshape(N,self.w,self.h,1)\n",
    "        pairs = [test_image,support_set]\n",
    "        targets = np.zeros((N,))\n",
    "        targets[0] = 1\n",
    "        return pairs, targets\n",
    "    \n",
    "    def test_oneshot(self,model,N,k,verbose=0):\n",
    "        \"\"\"Test average N way oneshot learning accuracy of a siamese neural net over n one-shot tasks\"\"\"\n",
    "        pass\n",
    "        n_correct = 0\n",
    "        if verbose:\n",
    "            print(\"Evaluating {} way task {} times...\".format(N,k))\n",
    "        for i in range(k):\n",
    "            inputs, targets = self.make_oneshot_task(N)\n",
    "            probs = model.predict(inputs)\n",
    "            print(probs)\n",
    "            print(np.argmax(probs))\n",
    "            if np.argmax(probs) == 0:\n",
    "                n_correct+=1\n",
    "        percent_correct = (100.0*n_correct / k)\n",
    "        if verbose:\n",
    "            print(\"Got {}% {} way one-shot learning accuracy\".format(percent_correct,N))\n",
    "        return percent_correct\n",
    "    \n",
    "loader = Siamese_Loader(X,Xval)\n",
    "b=loader.test_oneshot(siamese_net,N=5,k=3,verbose=True)\n",
    "print(b)  "
   ]
  },
  {
   "cell_type": "code",
   "execution_count": null,
   "metadata": {
    "collapsed": false
   },
   "outputs": [],
   "source": [
    "\n",
    "\n",
    "for i in range(20000):\n",
    "    (inputs,targets)=get_batch(X,y,64)\n",
    "    loss=siamese_net.train_on_batch(inputs,targets)\n",
    "    if i % 170 == 0:\n",
    "        val_input,val_target=get_batch(Xval,yval,32)\n",
    "        val_loss=siamese_net.evaluate(val_input,val_target)\n",
    "        print(\"iteration: {}, training loss: {}, val loss: {}\".format(i,loss, val_loss))\n",
    "    \n",
    "\n",
    "(inputs,targets)=get_batch(Xval,yval,64)\n",
    "\n",
    "\n",
    "\n",
    "plt.matshow(np.hstack([siamese_net.predict(inputs), targets.reshape(64,1)])[16:48],cmap='gray')\n",
    "plt.show()\n"
   ]
  },
  {
   "cell_type": "code",
   "execution_count": null,
   "metadata": {
    "collapsed": false,
    "scrolled": true
   },
   "outputs": [],
   "source": [
    "preds=siamese_net.predict(inputs)\n",
    "#print(np.where(preds==preds.max()))\n",
    "#print(inputs[0][58].shape)\n",
    "for idx in range(3):\n",
    "    print(\"probability not same:{}\".format(preds[idx]))\n",
    "    plt.matshow(inputs[0][idx].reshape(105,105),cmap='gray')\n",
    "    plt.matshow(inputs[1][idx].reshape(105,105),cmap='gray')\n",
    "\n",
    "    plt.show()\n",
    "#plt.matshow(inputs[1][58])\n"
   ]
  },
  {
   "cell_type": "code",
   "execution_count": null,
   "metadata": {
    "collapsed": false
   },
   "outputs": [],
   "source": [
    "\n",
    "        "
   ]
  },
  {
   "cell_type": "code",
   "execution_count": null,
   "metadata": {
    "collapsed": true
   },
   "outputs": [],
   "source": []
  }
 ],
 "metadata": {
  "celltoolbar": "Raw Cell Format",
  "kernelspec": {
   "display_name": "Python 2",
   "language": "python",
   "name": "python2"
  },
  "language_info": {
   "codemirror_mode": {
    "name": "ipython",
    "version": 2
   },
   "file_extension": ".py",
   "mimetype": "text/x-python",
   "name": "python",
   "nbconvert_exporter": "python",
   "pygments_lexer": "ipython2",
   "version": "2.7.12"
  }
 },
 "nbformat": 4,
 "nbformat_minor": 1
}
